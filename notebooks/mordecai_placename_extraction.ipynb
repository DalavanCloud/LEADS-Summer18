{
 "cells": [
  {
   "cell_type": "code",
   "execution_count": null,
   "metadata": {
    "collapsed": true
   },
   "outputs": [],
   "source": [
    "import json\n",
    "import os\n",
    "from mordecai import Geoparser\n",
    "import csv\n",
    "\n",
    "geo = Geoparser()\n",
    "\n",
    "# Working directory\n",
    "directory = \"/Users/gretchenstahlman/Documents/Geoparsing/test_compare\"\n",
    "\n",
    "out_dict = {}\n",
    "\n",
    "#latitude is column 0, and longitude is column 1\n",
    "t = 0\n",
    "for filename in os.listdir(directory):\n",
    "    if filename.endswith(\".txt\"):\n",
    "        with open(os.path.join(directory, filename), 'r', encoding='utf-8', errors='ignore') as f:\n",
    "            text = f.read()\n",
    "            parsed = geo.geoparse(text)\n",
    "            sheet = [[\"latitude\", \"longitude\"]]\n",
    "            for loc in parsed:\n",
    "                if \"geo\" in loc:\n",
    "                    if \"lat\" in loc[\"geo\"] and \"lon\" in loc[\"geo\"]:\n",
    "                        latitude = loc[\"geo\"][\"lat\"]\n",
    "                        longitude = loc[\"geo\"][\"lon\"]\n",
    "                        sheet.append([float(latitude), float(longitude)])\n",
    "            # Write out csv file for each text file\n",
    "            with open(directory + '/' + filename[:-4] + '.csv', 'w') as myfile:\n",
    "                wr = csv.writer(myfile, quoting=csv.QUOTE_ALL)\n",
    "                for i in sheet:\n",
    "                    wr.writerow(i)\n",
    "                myfile.close()\n",
    "        out_dict[filename] = parsed\n",
    "        f.close()\n",
    "        t += 1\n",
    "        print(str(t) + \" files have been processed.\")\n",
    "\n",
    "\n",
    "#OPTIONAL\n",
    "# Write out all data from txt files into json\n",
    "with open(directory + '/geo.json', 'w') as outfile:\n",
    "    json.dump(out_dict, outfile)\n",
    "\n",
    "outfile.close()\n",
    "\n",
    "# Chunk to detect unreadable files\n",
    "import os\n",
    "for filename in os.listdir(directory):\n",
    "    if filename.endswith(\".txt\"):\n",
    "        with open(os.path.join(directory, filename), 'r') as f:\n",
    "            try: text = f.read() \n",
    "            except: \n",
    "                print(filename + \"error\")\n",
    "                continue"
   ]
  }
 ],
 "metadata": {
  "kernelspec": {
   "display_name": "Python 3",
   "language": "python",
   "name": "python3"
  },
  "language_info": {
   "codemirror_mode": {
    "name": "ipython",
    "version": 3
   },
   "file_extension": ".py",
   "mimetype": "text/x-python",
   "name": "python",
   "nbconvert_exporter": "python",
   "pygments_lexer": "ipython3",
   "version": "3.5.2"
  }
 },
 "nbformat": 4,
 "nbformat_minor": 2
}
