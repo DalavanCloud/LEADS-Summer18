{
 "cells": [
  {
   "cell_type": "code",
   "execution_count": 27,
   "metadata": {
    "collapsed": false,
    "deletable": true,
    "editable": true
   },
   "outputs": [],
   "source": [
    "import requests \n",
    "import pandas as pd\n",
    "import spacy\n",
    "import geocoder\n",
    "import numpy as np\n",
    "\n",
    "nlp = spacy.load('en')\n",
    "%matplotlib inline"
   ]
  },
  {
   "cell_type": "code",
   "execution_count": 47,
   "metadata": {
    "collapsed": false,
    "deletable": true,
    "editable": true
   },
   "outputs": [
    {
     "data": {
      "text/plain": [
       "200"
      ]
     },
     "execution_count": 47,
     "metadata": {},
     "output_type": "execute_result"
    }
   ],
   "source": [
    "import requests\n",
    "r = requests.get('https://geodeepdive.org/api/snippets?term=NMNH%20USNM&fragment_limit=100&article_limit=30')\n",
    "r.status_code"
   ]
  },
  {
   "cell_type": "markdown",
   "metadata": {
    "deletable": true,
    "editable": true
   },
   "source": [
    "### Publishers"
   ]
  },
  {
   "cell_type": "code",
   "execution_count": 48,
   "metadata": {
    "collapsed": false,
    "deletable": true,
    "editable": true,
    "scrolled": true
   },
   "outputs": [
    {
     "data": {
      "text/plain": [
       "<matplotlib.axes._subplots.AxesSubplot at 0x12165cef0>"
      ]
     },
     "execution_count": 48,
     "metadata": {},
     "output_type": "execute_result"
    },
    {
     "data": {
      "image/png": "[encoded data removed]",
      "text/plain": [
       "<matplotlib.figure.Figure at 0x11f565f60>"
      ]
     },
     "metadata": {},
     "output_type": "display_data"
    }
   ],
   "source": [
    "pubs = [i['publisher'] for i in r.json()['success']['data']]\n",
    "pd.Series(pubs).value_counts().plot(kind='barh', title='Publishers')"
   ]
  },
  {
   "cell_type": "markdown",
   "metadata": {
    "deletable": true,
    "editable": true
   },
   "source": [
    "### Journals"
   ]
  },
  {
   "cell_type": "code",
   "execution_count": 49,
   "metadata": {
    "collapsed": false,
    "deletable": true,
    "editable": true
   },
   "outputs": [
    {
     "data": {
      "text/plain": [
       "<matplotlib.axes._subplots.AxesSubplot at 0x122478ef0>"
      ]
     },
     "execution_count": 49,
     "metadata": {},
     "output_type": "execute_result"
    },
    {
     "data": {
      "image/png": "[encoded data removed]",
      "text/plain": [
       "<matplotlib.figure.Figure at 0x122443fd0>"
      ]
     },
     "metadata": {},
     "output_type": "display_data"
    }
   ],
   "source": [
    "journ = [i['pubname'] for i in r.json()['success']['data']]\n",
    "pd.Series(journ).value_counts().plot(kind='barh', title='Journals')"
   ]
  },
  {
   "cell_type": "markdown",
   "metadata": {
    "deletable": true,
    "editable": true
   },
   "source": [
    "### Sentences"
   ]
  },
  {
   "cell_type": "code",
   "execution_count": 50,
   "metadata": {
    "collapsed": true,
    "deletable": true,
    "editable": true
   },
   "outputs": [],
   "source": [
    "sentences = []\n",
    "doc = []\n",
    "\n",
    "for i in r.json()['success']['data']:\n",
    "    for x in i['highlight']:\n",
    "        if 'USNM' in x: \n",
    "            x = nlp(x)\n",
    "            sentences.append(x)\n",
    "            doc.append(i['title'])"
   ]
  },
  {
   "cell_type": "code",
   "execution_count": 51,
   "metadata": {
    "collapsed": false,
    "deletable": true,
    "editable": true
   },
   "outputs": [
    {
     "data": {
      "text/plain": [
       ", Trelew; UMMZ, Museum of Zoology, University of Michigan, Ann Arbor; <em class=\"hl\">NMNH</em> (<em class=\"hl\">USNM</em>), National Museum"
      ]
     },
     "execution_count": 51,
     "metadata": {},
     "output_type": "execute_result"
    }
   ],
   "source": [
    "sentences[1]"
   ]
  },
  {
   "cell_type": "markdown",
   "metadata": {
    "deletable": true,
    "editable": true
   },
   "source": [
    "### Gather Locations"
   ]
  },
  {
   "cell_type": "code",
   "execution_count": 52,
   "metadata": {
    "collapsed": true,
    "deletable": true,
    "editable": true
   },
   "outputs": [],
   "source": [
    "locations = []\n",
    "pub = []\n",
    "\n",
    "for idx, i in enumerate(sentences):\n",
    "    for ent in i.ents:\n",
    "        if ent.label_ == 'GPE': \n",
    "            locations.append(ent.text)\n",
    "            pub.append(doc[idx])"
   ]
  },
  {
   "cell_type": "code",
   "execution_count": 53,
   "metadata": {
    "collapsed": false,
    "deletable": true,
    "editable": true
   },
   "outputs": [
    {
     "data": {
      "text/plain": [
       "('NMNH</em',\n",
       " 'Sound transmission in archaic and modern whales: Anatomical adaptations for underwater hearing')"
      ]
     },
     "execution_count": 53,
     "metadata": {},
     "output_type": "execute_result"
    }
   ],
   "source": [
    "locations[10], pub[10]"
   ]
  },
  {
   "cell_type": "code",
   "execution_count": 54,
   "metadata": {
    "collapsed": false,
    "deletable": true,
    "editable": true
   },
   "outputs": [
    {
     "name": "stdout",
     "output_type": "stream",
     "text": [
      "[40.7642202, -73.9742747] First records of Fistularia petimba and Diodon eydouxii for the Azores, with notes on the occurrence of three additional species\n",
      "[38.8912662, -77.0260654] First records of Fistularia petimba and Diodon eydouxii for the Azores, with notes on the occurrence of three additional species\n",
      "[38.8859942, -77.0212813] First records of Fistularia petimba and Diodon eydouxii for the Azores, with notes on the occurrence of three additional species\n",
      "[42.2808256, -83.7430378] Redescription of the Eocene catfish Bachmannia chubutensis (Teleostei: Bachmanniidae) of southern South America\n",
      "[38.8912662, -77.0260654] Redescription of the Eocene catfish Bachmannia chubutensis (Teleostei: Bachmanniidae) of southern South America\n",
      "[36.4603466, -94.1926429] Trapped noble gases in unequilibrated ordinary chondrites\n",
      "[36.4603466, -94.1926429] Trapped noble gases in unequilibrated ordinary chondrites\n",
      "[20.593684, 78.96288] Sound transmission in archaic and modern whales: Anatomical adaptations for underwater hearing\n",
      "[38.8912662, -77.0260654] Sound transmission in archaic and modern whales: Anatomical adaptations for underwater hearing\n",
      "[38.8912662, -77.0260654] Monophyletic origin of Caryophyllia (Scleractinia, Caryophylliidae), with descriptions of six new species\n",
      "[38.8859942, -77.0212813] Monophyletic origin of Caryophyllia (Scleractinia, Caryophylliidae), with descriptions of six new species\n",
      "[38.8912662, -77.0260654] Monophyletic origin of Caryophyllia (Scleractinia, Caryophylliidae), with descriptions of six new species\n",
      "[38.8859942, -77.0212813] Monophyletic origin of Caryophyllia (Scleractinia, Caryophylliidae), with descriptions of six new species\n",
      "[38.8912662, -77.0260654] Corals of the K/T‐boundary: Scleractinian corals of the suborders Astrocoeniina, Faviina, Rhipidogyrina and Amphiastraeina\n",
      "[47.516231, 14.550072] Corals of the K/T‐boundary: Scleractinian corals of the suborders Astrocoeniina, Faviina, Rhipidogyrina and Amphiastraeina\n",
      "[38.8912662, -77.0260654] Corals of the K/T‐boundary: Scleractinian corals of the suborders Astrocoeniina, Faviina, Rhipidogyrina and Amphiastraeina\n",
      "[38.8912662, -77.0260654] Corals of the K/T‐boundary: Scleractinian corals of the suborders Astrocoeniina, Faviina, Rhipidogyrina and Amphiastraeina\n",
      "[38.8859942, -77.0212813] Corals of the K/T‐boundary: Scleractinian corals of the suborders Astrocoeniina, Faviina, Rhipidogyrina and Amphiastraeina\n",
      "[47.516231, 14.550072] Corals of the K/T‐boundary: Scleractinian corals of the suborders Astrocoeniina, Faviina, Rhipidogyrina and Amphiastraeina\n",
      "[38.8912662, -77.0260654] Corals of the K/T‐boundary: Scleractinian corals of the suborders Astrocoeniina, Faviina, Rhipidogyrina and Amphiastraeina\n",
      "[38.8859942, -77.0212813] Corals of the K/T‐boundary: Scleractinian corals of the suborders Astrocoeniina, Faviina, Rhipidogyrina and Amphiastraeina\n",
      "[47.516231, 14.550072] Corals of the K/T‐boundary: Scleractinian corals of the suborders Astrocoeniina, Faviina, Rhipidogyrina and Amphiastraeina\n",
      "[38.8912662, -77.0260654] Corals of the K/T‐boundary: Scleractinian corals of the suborders Astrocoeniina, Faviina, Rhipidogyrina and Amphiastraeina\n",
      "[37.09024, -95.712891] Revision of the smiling worms, genera Prosadenoporus Bürger, 1890 and Pantinonemertes Moore and Gibson, 1981 and description of a new species Prosadenoporus floridensis sp. nov. (Prosorhochmidae; Hoplonemertea; Nemertea) from Florida and Belize\n",
      "[38.8912662, -77.0260654] Revision of the smiling worms, genera Prosadenoporus Bürger, 1890 and Pantinonemertes Moore and Gibson, 1981 and description of a new species Prosadenoporus floridensis sp. nov. (Prosorhochmidae; Hoplonemertea; Nemertea) from Florida and Belize\n",
      "[38.8859942, -77.0212813] Revision of the smiling worms, genera Prosadenoporus Bürger, 1890 and Pantinonemertes Moore and Gibson, 1981 and description of a new species Prosadenoporus floridensis sp. nov. (Prosorhochmidae; Hoplonemertea; Nemertea) from Florida and Belize\n"
     ]
    }
   ],
   "source": [
    "geo = []\n",
    "save_doc = []\n",
    "for idx, i in enumerate(locations):\n",
    "    g = geocoder.google(i).latlng\n",
    "    if g != None:\n",
    "        geo.append(g)\n",
    "        save_doc.append(pub[idx])\n",
    "        print(g, pub[idx])"
   ]
  },
  {
   "cell_type": "code",
   "execution_count": 55,
   "metadata": {
    "collapsed": false,
    "deletable": true,
    "editable": true
   },
   "outputs": [],
   "source": [
    "lat = []\n",
    "long = []\n",
    "for i in geo:\n",
    "    lat.append(i[0])\n",
    "    long.append(i[1])"
   ]
  },
  {
   "cell_type": "code",
   "execution_count": 56,
   "metadata": {
    "collapsed": true,
    "deletable": true,
    "editable": true
   },
   "outputs": [],
   "source": [
    "df = pd.DataFrame({'lat':lat, 'long':long, 'pub':save_doc})\n",
    "df.to_csv('BHL_gdd_experiment.csv')"
   ]
  },
  {
   "cell_type": "markdown",
   "metadata": {
    "collapsed": true,
    "deletable": true,
    "editable": true
   },
   "source": [
    "#Thanks to Brandon Serna of the USGS for the code and tutorial to learn how to use the GDD API."
   ]
  }
 ],
 "metadata": {
  "kernelspec": {
   "display_name": "Python 3",
   "language": "python",
   "name": "python3"
  },
  "language_info": {
   "codemirror_mode": {
    "name": "ipython",
    "version": 3
   },
   "file_extension": ".py",
   "mimetype": "text/x-python",
   "name": "python",
   "nbconvert_exporter": "python",
   "pygments_lexer": "ipython3",
   "version": "3.5.2"
  }
 },
 "nbformat": 4,
 "nbformat_minor": 2
}
